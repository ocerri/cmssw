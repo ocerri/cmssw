{
 "cells": [
  {
   "cell_type": "code",
   "execution_count": 1,
   "metadata": {},
   "outputs": [
    {
     "name": "stdout",
     "output_type": "stream",
     "text": [
      "Welcome to JupyROOT 6.12/06\n"
     ]
    }
   ],
   "source": [
    "import ROOT as rt\n",
    "import numpy as np\n",
    "from copy import deepcopy"
   ]
  },
  {
   "cell_type": "code",
   "execution_count": 2,
   "metadata": {},
   "outputs": [],
   "source": [
    "#B+ evt 24\n",
    "pB = rt.TLorentzVector(0,0,0,0)\n",
    "pB.SetPtEtaPhiM(22.309, -0.686, -2.495, 5.2793)\n",
    "\n",
    "pD = rt.TLorentzVector(0,0,0,0)\n",
    "pD.SetPtEtaPhiM(8.422, -0.672, -2.590, 1.8648)\n",
    "\n",
    "pmu = rt.TLorentzVector(0,0,0,0)\n",
    "pmu.SetPtEtaPhiM(10.106, -0.538, -2.423, 0.1057)\n",
    "\n",
    "pnu_true = rt.TLorentzVector(0,0,0,0)\n",
    "pnu_true.SetPtEtaPhiM(3.846, -1.035, -2.479, 0.0000)"
   ]
  },
  {
   "cell_type": "code",
   "execution_count": 23,
   "metadata": {},
   "outputs": [
    {
     "name": "stdout",
     "output_type": "stream",
     "text": [
      "27.7673763919\n",
      "-17.8057332136 -13.440511364 -16.5328675883\n",
      "(x,y,z,t)=(-3.032186,-2.365917,-4.730349,6.096550) (P,eta,phi,E)=(6.096550,-1.035000,-2.479000,6.096550)\n"
     ]
    }
   ],
   "source": [
    "print pB.P()\n",
    "print pB.X(), pB.Y(), pB.Z()\n",
    "\n",
    "pnu_true.Print()"
   ]
  },
  {
   "cell_type": "code",
   "execution_count": 20,
   "metadata": {},
   "outputs": [],
   "source": [
    "def getNuMomentum(d_flightB, p_vis, pt_B):\n",
    "    d = d_flightB*(1/d_flightB.Mag())\n",
    "    \n",
    "    p_B = d * (pt_B/d.Perp())\n",
    "    \n",
    "    p_nu_vec = p_B - p_vis.Vect()\n",
    "    p_nu = rt.TLorentzVector(p_nu_vec, p_nu_vec.Mag())\n",
    "    return p_nu"
   ]
  },
  {
   "cell_type": "code",
   "execution_count": 24,
   "metadata": {},
   "outputs": [
    {
     "name": "stdout",
     "output_type": "stream",
     "text": [
      "-17.8057332136 -13.440511364 -16.5328675883\n",
      "-3.02567240342 -2.37396768335 -4.73446271956\n"
     ]
    },
    {
     "data": {
      "text/plain": [
       "0.0"
      ]
     },
     "execution_count": 24,
     "metadata": {},
     "output_type": "execute_result"
    }
   ],
   "source": [
    "pv = pD + pmu\n",
    "\n",
    "pnu = getNuMomentum(pB.Vect(), pv, pB.Pt())\n",
    "\n",
    "print pnu.X(), pnu.Y(), pnu.Z()\n",
    "pnu.M()"
   ]
  },
  {
   "cell_type": "code",
   "execution_count": null,
   "metadata": {},
   "outputs": [],
   "source": [
    "d = pB.Vect()*(1/pB.P())\n",
    "z_ax = rt.TVector3(0,0,1)"
   ]
  },
  {
   "cell_type": "code",
   "execution_count": null,
   "metadata": {},
   "outputs": [],
   "source": [
    "omega_ax = z_ax.Cross(d)\n",
    "omega = z_ax.Angle(d)"
   ]
  },
  {
   "cell_type": "code",
   "execution_count": null,
   "metadata": {},
   "outputs": [],
   "source": [
    "p_trial = deepcopy(pB)\n",
    "p_trial.Print()\n",
    "p_trial.Rotate(-omega, omega_ax)\n",
    "p_trial.Print()\n",
    "\n",
    "\n",
    "p_nu_hat = deepcopy(pnu_true)\n",
    "p_nu_hat.Rotate(-omega, omega_ax)\n",
    "p_nu_hat.Print()"
   ]
  },
  {
   "cell_type": "code",
   "execution_count": null,
   "metadata": {},
   "outputs": [],
   "source": [
    "print pB.M()\n",
    "print (pD + pmu + pnu_true).M()"
   ]
  },
  {
   "cell_type": "code",
   "execution_count": null,
   "metadata": {},
   "outputs": [],
   "source": [
    "pv = pD + pmu\n",
    "# pv.Rotate(-omega, omega_ax)\n",
    "# pv.Print()"
   ]
  },
  {
   "cell_type": "code",
   "execution_count": null,
   "metadata": {},
   "outputs": [],
   "source": [
    "k = (pB.M()**2 - pv.M()**2)/2 - pv.Perp2()"
   ]
  },
  {
   "cell_type": "code",
   "execution_count": null,
   "metadata": {},
   "outputs": [],
   "source": [
    "#Form: az^2 + bz + c = 0\n",
    "a = pv.Pz()**2 - pv.E()**2\n",
    "b = 2*pv.Pz()*k\n",
    "c = k**2 - pv.E()**2 * pv.Pt()**2\n",
    "\n",
    "z = np.roots([a,b,c])\n",
    "print z\n",
    "\n",
    "print pv.Pz()"
   ]
  },
  {
   "cell_type": "code",
   "execution_count": null,
   "metadata": {},
   "outputs": [],
   "source": [
    "pnu_0 = rt.TLorentzVector(0,0,0,0)\n",
    "pnu_0.SetXYZM(-pv.X(), -pv.Y(), z[1], 0)\n",
    "\n",
    "pnu_0.Print()\n",
    "\n",
    "print (pv + pnu_0).M()"
   ]
  },
  {
   "cell_type": "code",
   "execution_count": null,
   "metadata": {},
   "outputs": [],
   "source": [
    "pv.Print()\n",
    "print pv.Angle(rt.TVector3(0,0,1))\n",
    "pv.Print()"
   ]
  },
  {
   "cell_type": "code",
   "execution_count": null,
   "metadata": {},
   "outputs": [],
   "source": [
    "np.arccos(pv.BoostVector().Dot(rt.TVector3(0,0,1)))"
   ]
  },
  {
   "cell_type": "code",
   "execution_count": null,
   "metadata": {},
   "outputs": [],
   "source": [
    "np.linalg.norm([-0.666764,-0.499238,-0.532254])"
   ]
  },
  {
   "cell_type": "code",
   "execution_count": null,
   "metadata": {},
   "outputs": [],
   "source": [
    "v = rt.TLorentzVector(1,1,1,1)\n",
    "v.Print()\n",
    "\n",
    "v.RotateUz(z_ax)\n",
    "v.Print()"
   ]
  },
  {
   "cell_type": "code",
   "execution_count": null,
   "metadata": {},
   "outputs": [],
   "source": [
    "d.Perp()"
   ]
  },
  {
   "cell_type": "code",
   "execution_count": null,
   "metadata": {},
   "outputs": [],
   "source": []
  }
 ],
 "metadata": {
  "kernelspec": {
   "display_name": "Python 2",
   "language": "python",
   "name": "python2"
  },
  "language_info": {
   "codemirror_mode": {
    "name": "ipython",
    "version": 2
   },
   "file_extension": ".py",
   "mimetype": "text/x-python",
   "name": "python",
   "nbconvert_exporter": "python",
   "pygments_lexer": "ipython2",
   "version": "2.7.14"
  }
 },
 "nbformat": 4,
 "nbformat_minor": 2
}
